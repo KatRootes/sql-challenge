{
 "cells": [
  {
   "cell_type": "markdown",
   "metadata": {},
   "source": [
    "# SQL Challenge - Homework 9\n",
    "## Tools Used\n",
    "* Postregsql 4 - Type of SQL\n",
    "* pgAdmin 4 - Database Admin tool\n",
    "* QuickDBD - Quick Database Diagrams (Tool to create ERD - Entity Relationship Diagrams)\n",
    "* Jupyter Notebooks - Presentation of work, graphing\n",
    "* Python, Pandas, MatPlotLib, Numpy, SQL Alchemy - See Imports section"
   ]
  },
  {
   "cell_type": "markdown",
   "metadata": {},
   "source": [
    "# Data Modeling\n",
    "## Using the csv files provided, created an ERD in QuickDBD\n",
    "* departments.csv\n",
    "* employees.csv\n",
    "* salaries.csv\n",
    "* titles.csv\n",
    "* dept_emp.csv\n",
    "* dept_manager.csv\n",
    "\n",
    "![title](ERD-QuickDBD-export.png)"
   ]
  },
  {
   "cell_type": "markdown",
   "metadata": {},
   "source": [
    "# Data Engineering\n",
    "### Next, starting from the ERD above, exported a table schema and edited it for specific data types and other constraints such as primary and foreign keys\n",
    "\n",
    "##### Started with this (export from QuickDBD):\n",
    "~~~~sql\n",
    "CREATE TABLE \"Departments\" (\n",
    "    \"dept_no\" VARCHAR(4)   NOT NULL,\n",
    "    \"dept_name\" VARCHAR(20)   NOT NULL,\n",
    "    CONSTRAINT \"pk_Departments\" PRIMARY KEY (\n",
    "        \"dept_no\"\n",
    "     )\n",
    ");\n",
    "\n",
    "CREATE TABLE \"Employees\" (\n",
    "    \"emp_no\" INTEGER   NOT NULL,\n",
    "    \"birth_date\" DATE   NOT NULL,\n",
    "    \"first_name\" VARCHAR(30)   NOT NULL,\n",
    "    \"last_name\" VARCHAR(30)   NOT NULL,\n",
    "    \"gender\" CHAR(1)   NOT NULL,\n",
    "    \"hire_date\" DATE   NOT NULL,\n",
    "    CONSTRAINT \"pk_Employees\" PRIMARY KEY (\n",
    "        \"emp_no\"\n",
    "     )\n",
    ");\n",
    "\n",
    "CREATE TABLE \"Salaries\" (\n",
    "    \"emp_no\" INTEGER   NOT NULL,\n",
    "    \"salary\" INTEGER   NOT NULL,\n",
    "    \"from_date\" DATE   NOT NULL,\n",
    "    \"to_date\" DATE   NOT NULL,\n",
    "    CONSTRAINT \"pk_Salaries\" PRIMARY KEY (\n",
    "        \"emp_no\",\"from_date\"\n",
    "     )\n",
    ");\n",
    "\n",
    "CREATE TABLE \"Titles\" (\n",
    "    \"emp_no\" INTEGER   NOT NULL,\n",
    "    \"title\" VARCHAR(20)   NOT NULL,\n",
    "    \"from_date\" DATE   NOT NULL,\n",
    "    \"to_date\" DATE   NOT NULL,\n",
    "    CONSTRAINT \"pk_Titles\" PRIMARY KEY (\n",
    "        \"emp_no\",\"from_date\"\n",
    "     )\n",
    ");\n",
    "\n",
    "CREATE TABLE \"Dep_Emp\" (\n",
    "    \"emp_no\" INTEGER   NOT NULL,\n",
    "    \"dept_no\" VARCHAR(4)   NOT NULL,\n",
    "    \"from_date\" DATE   NOT NULL,\n",
    "    \"to_date\" DATE   NOT NULL,\n",
    "    CONSTRAINT \"pk_Dep_Emp\" PRIMARY KEY (\n",
    "        \"emp_no\",\"dept_no\"\n",
    "     )\n",
    ");\n",
    "\n",
    "CREATE TABLE \"Dep_Manager\" (\n",
    "    \"emp_no\" INTEGER   NOT NULL,\n",
    "    \"dept_no\" VARCHAR(4)   NOT NULL,\n",
    "    \"from_date\" DATE   NOT NULL,\n",
    "    \"to_date\" DATE   NOT NULL,\n",
    "    CONSTRAINT \"pk_Dep_Manager\" PRIMARY KEY (\n",
    "        \"emp_no\",\"dept_no\"\n",
    "     )\n",
    ");\n",
    "\n",
    "ALTER TABLE \"Salaries\" ADD CONSTRAINT \"fk_Salaries_emp_no\" FOREIGN KEY(\"emp_no\")\n",
    "REFERENCES \"Employees\" (\"emp_no\");\n",
    "\n",
    "ALTER TABLE \"Titles\" ADD CONSTRAINT \"fk_Titles_emp_no\" FOREIGN KEY(\"emp_no\")\n",
    "REFERENCES \"Employees\" (\"emp_no\");\n",
    "\n",
    "ALTER TABLE \"Dep_Emp\" ADD CONSTRAINT \"fk_Dep_Emp_emp_no\" FOREIGN KEY(\"emp_no\")\n",
    "REFERENCES \"Employees\" (\"emp_no\");\n",
    "\n",
    "ALTER TABLE \"Dep_Emp\" ADD CONSTRAINT \"fk_Dep_Emp_dept_no\" FOREIGN KEY(\"dept_no\")\n",
    "REFERENCES \"Departments\" (\"dept_no\");\n",
    "\n",
    "ALTER TABLE \"Dep_Manager\" ADD CONSTRAINT \"fk_Dep_Manager_emp_no\" FOREIGN KEY(\"emp_no\")\n",
    "REFERENCES \"Employees\" (\"emp_no\");\n",
    "\n",
    "ALTER TABLE \"Dep_Manager\" ADD CONSTRAINT \"fk_Dep_Manager_dept_no\" FOREIGN KEY(\"dept_no\")\n",
    "REFERENCES \"Departments\" (\"dept_no\");\n",
    "~~~~\n",
    "\n",
    "##### Then updated it to this:\n",
    "~~~~sql\n",
    "CREATE TABLE \"Departments\" (\n",
    "    -- Create fields\n",
    "    \"dept_no\" VARCHAR(4)  NOT NULL,\n",
    "    \"dept_name\" VARCHAR(20) NOT NULL,\n",
    "\n",
    "    -- Add contstraints\n",
    "    CONSTRAINT \"pk_Departments\" PRIMARY KEY (\"dept_no\")\n",
    ");\n",
    "\n",
    "CREATE TABLE \"Employees\" (\n",
    "    -- Create fields\n",
    "    \"emp_no\" INTEGER   NOT NULL,\n",
    "    \"birth_date\" DATE   NOT NULL,\n",
    "    \"first_name\" VARCHAR(30)   NOT NULL,\n",
    "    \"last_name\" VARCHAR(30)   NOT NULL,\n",
    "    \"gender\" CHAR(1)   NOT NULL,\n",
    "    \"hire_date\" DATE   NOT NULL,\n",
    "\n",
    "    -- Add constraints\n",
    "    CONSTRAINT \"pk_Employees\" PRIMARY KEY (\"emp_no\")\n",
    ");\n",
    "\n",
    "CREATE TABLE \"Salaries\" (\n",
    "    -- Create fields\n",
    "    \"emp_no\" INTEGER   NOT NULL,\n",
    "    \"salary\" INTEGER   NOT NULL,\n",
    "    \"from_date\" DATE   NOT NULL,\n",
    "    \"to_date\" DATE   NOT NULL,\n",
    "\n",
    "    -- Add constraints\n",
    "    CONSTRAINT \"fk_Salaries_emp_no\" FOREIGN KEY(\"emp_no\") REFERENCES \"Employees\" (\"emp_no\"),\n",
    "    CONSTRAINT \"pk_Salaries\" PRIMARY KEY (\"emp_no\",\"from_date\")\n",
    ");\n",
    "\n",
    "CREATE TABLE \"Titles\" (\n",
    "    -- Create fields\n",
    "    \"emp_no\" INTEGER   NOT NULL,\n",
    "    \"title\" VARCHAR(20)   NOT NULL,\n",
    "    \"from_date\" DATE   NOT NULL,\n",
    "    \"to_date\" DATE   NOT NULL,\n",
    "\n",
    "    -- Add constraints\n",
    "    CONSTRAINT \"fk_Titles_emp_no\" FOREIGN KEY(\"emp_no\") REFERENCES \"Employees\" (\"emp_no\"),\n",
    "    CONSTRAINT \"pk_Titles\" PRIMARY KEY (\"emp_no\",\"from_date\")\n",
    ");\n",
    "\n",
    "CREATE TABLE \"Dep_Emp\" (\n",
    "    -- Create fields\n",
    "    \"emp_no\" INTEGER   NOT NULL,\n",
    "    \"dept_no\" VARCHAR(4)   NOT NULL,\n",
    "    \"from_date\" DATE   NOT NULL,\n",
    "    \"to_date\" DATE   NOT NULL,\n",
    "\n",
    "    -- Add constraints\n",
    "    CONSTRAINT \"fk_Dep_Emp_emp_no\" FOREIGN KEY(\"emp_no\") REFERENCES \"Employees\" (\"emp_no\"),\n",
    "    CONSTRAINT \"fk_Dep_Emp_dept_no\" FOREIGN KEY(\"dept_no\") REFERENCES \"Departments\" (\"dept_no\"),\n",
    "    CONSTRAINT \"pk_Dep_Emp\" PRIMARY KEY (\"emp_no\",\"dept_no\")\n",
    ");\n",
    "\n",
    "CREATE TABLE \"Dep_Manager\" (\n",
    "    -- Create fields\n",
    "    \"dept_no\" VARCHAR(4)   NOT NULL,\n",
    "    \"emp_no\" INTEGER   NOT NULL,\n",
    "    \"from_date\" DATE   NOT NULL,\n",
    "    \"to_date\" DATE   NOT NULL,\n",
    "\n",
    "    -- Add constraints\n",
    "    CONSTRAINT \"fk_Dep_Manager_dept_no\" FOREIGN KEY(\"dept_no\") REFERENCES \"Departments\" (\"dept_no\"),\n",
    "    CONSTRAINT \"fk_Dep_Manager_emp_no\" FOREIGN KEY(\"emp_no\") REFERENCES \"Employees\" (\"emp_no\"),\n",
    "    CONSTRAINT \"pk_Dep_Manager\" PRIMARY KEY (\"emp_no\",\"dept_no\")\n",
    ");\n",
    "~~~~\n",
    "\n",
    "## Using pgAdmin4\n",
    "*  Created the database (SQLChallenge)\n",
    "*  Ran the table schema file above to create the tables\n",
    "*  Imported the csv files into the appropriate tables ensuring that independent tables were run first to avoid conflicts when loading."
   ]
  },
  {
   "attachments": {},
   "cell_type": "markdown",
   "metadata": {},
   "source": [
    "# Data Analysis\n",
    "## Phase 1 - SQL Queries\n",
    "* Executed within pgAdmin4\n",
    "\n",
    "NOTE:  Throughout these queries it was unclear if we were to only use current employee data or include historical as well.  When in doubt, it was run both ways noting that current employees have a to_date of 9999-01-01\n",
    "\n",
    "### 1. List the following details of each employee: employee number, last name, first name, gender, and salary.\n",
    "~~~~sql\n",
    "SELECT emp_no AS \"Employee Number\", last_name AS \"Last Name\", first_name AS \"First Name\", gender AS \"Gender\",\n",
    "\t(\n",
    "\t\tSELECT \"Salaries\".salary\n",
    "\t \tFROM \"Salaries\"\n",
    "\t \tWHERE \"Employees\".emp_no = \"Salaries\".emp_no\n",
    "\t) AS \"Salary\" \n",
    "FROM \"Employees\";\n",
    "~~~~\n",
    "![title](Output/Question1.png)\n",
    "\n",
    "\n",
    "\n",
    "### 2. List employees who were hired in 1986.\n",
    "~~~~sql\n",
    "SELECT emp_no AS \"Employee Number\", last_name AS \"Last Name\", first_name AS \"First Name\", hire_date AS \"Hire Date\"\n",
    "FROM \"Employees\"\n",
    "WHERE EXTRACT(year FROM hire_date) = 1986;\n",
    "~~~~\n",
    "![title](Output/Question2.png)\n",
    "\n",
    "\n",
    "\n",
    "### 3. List the manager of each department with the following information: \n",
    "* department number, department name, the manager's employee number, last name, first name, and start and end employment dates.\n",
    "\n",
    "#### QUESTION:  List the Complete History or just the current managers?\n",
    "#### Here is the HISTORY\n",
    "~~~~sql\n",
    "SELECT dpt.dept_no AS \"Department Number\", dpt.dept_name AS \"Department Name\", dptMgr.emp_no AS \"Manager Number\", \n",
    "    emp.last_name AS \"Last Name\", emp.first_name AS \"First Name\", dptMgr.from_date AS \"Start Date\", \n",
    "    dptMgr.to_date AS \"End Date\"\n",
    "FROM \"Departments\" AS dpt, \"Dep_Manager\" AS dptMgr, \"Employees\" AS emp\n",
    "WHERE dpt.dept_no = dptMgr.dept_no AND dptMgr.emp_no = emp.emp_no;\n",
    "~~~~\n",
    "![title](Output/Question3History.png)\n",
    "\n",
    "\n",
    "\n",
    "#### Here is just the current\n",
    "~~~~sql\n",
    "SELECT dpt.dept_no AS \"Department Number\", dpt.dept_name AS \"Department Name\", dptMgr.emp_no AS \"Manager Number\",\n",
    "    emp.last_name AS \"Last Name\", emp.first_name AS \"First Name\", dptMgr.from_date AS \"Start Date\", \n",
    "    dptMgr.to_date AS \"End Date\"\n",
    "FROM \"Departments\" AS dpt, \"Dep_Manager\" AS dptMgr, \"Employees\" AS emp\n",
    "WHERE dpt.dept_no = dptMgr.dept_no AND dptMgr.emp_no = emp.emp_no AND EXTRACT(year FROM dptMgr.to_date)=9999;\n",
    "~~~~\n",
    "![title](Output/Question3Current.png)\n",
    "\n",
    "\n",
    "\n",
    "### 4. List the department of each employee with the following information: employee number, last name, first name, and department name.\n",
    "#### QUESTION:  Is this currently or ever?\n",
    "#### Here is the History\n",
    "~~~~sql\n",
    "SELECT emp.emp_no AS \"Employee Number\", emp.last_name AS \"Last Name\", emp.first_name AS \"First Name\", \n",
    "    dpt.dept_name AS \"Department Name\"\n",
    "FROM \"Departments\" AS dpt, \"Dep_Emp\" AS dptEmp, \"Employees\" AS emp\n",
    "WHERE dpt.dept_no = dptEmp.dept_no AND dptEmp.emp_no = emp.emp_no;\n",
    "~~~~\n",
    "![title](Output/Question4History.png)\n",
    "\n",
    "\n",
    "\n",
    "#### Here is current\n",
    "~~~~sql\n",
    "SELECT emp.emp_no AS \"Employee Number\", emp.last_name AS \"Last Name\", emp.first_name AS \"First Name\", \n",
    "    dpt.dept_name AS \"Department Name\"\n",
    "FROM \"Departments\" AS dpt, \"Dep_Emp\" AS dptEmp, \"Employees\" AS emp\n",
    "WHERE dpt.dept_no = dptEmp.dept_no AND dptEmp.emp_no = emp.emp_no  AND EXTRACT(year FROM dptEmp.to_date)=9999;\n",
    "\n",
    "~~~~\n",
    "![title](Output/Question4Current.png)\n",
    "\n",
    "\n",
    "\n",
    "### 5. List all employees whose first name is \"Hercules\" and last names begin with \"B.\"\n",
    "~~~~sql\n",
    "SELECT emp_no AS \"Employee Number\", first_name AS \"First Name\", last_name AS \"Last Name\"\n",
    "FROM \"Employees\"\n",
    "WHERE first_name = 'Hercules' and last_name LIKE 'B%';\n",
    "~~~~\n",
    "![title](Output/Question5.png)\n",
    "\n",
    "\n",
    "\n",
    "### 6. List all employees in the Sales department, including their employee number, last name, first name, and department name.\n",
    "#### QUESTION:  Is this currently or ever?\n",
    "#### Here is the History\n",
    "~~~~sql\n",
    "SELECT emp.emp_no AS \"Employee Number\", emp.last_name AS \"Last Name\", emp.first_name AS \"First Name\", \n",
    "    dpt.dept_name AS \"Department Name\"\n",
    "FROM \"Employees\" AS emp, \"Departments\" AS dpt, \"Dep_Emp\" AS dptEmp\n",
    "WHERE dpt.dept_no = dptEmp.dept_no AND dptEmp.emp_no = emp.emp_no AND dpt.dept_name = 'Sales';\n",
    "~~~~\n",
    "![title](Output/Question6History.png)\n",
    "\n",
    "\n",
    "\n",
    "#### Here is the current\n",
    "~~~~sql\n",
    "SELECT emp.emp_no AS \"Employee Number\", emp.last_name AS \"Last Name\", emp.first_name AS \"First Name\", \n",
    "    dpt.dept_name AS \"Department Name\"\n",
    "FROM \"Employees\" AS emp, \"Departments\" AS dpt, \"Dep_Emp\" AS dptEmp\n",
    "WHERE dpt.dept_no = dptEmp.dept_no AND dptEmp.emp_no = emp.emp_no AND dpt.dept_name = 'Sales' AND EXTRACT(year FROM dptEmp.to_date)=9999;\n",
    "~~~~\n",
    "![title](Output/Question6Current.png)\n",
    "\n",
    "  \n",
    "\n",
    "### 7. List all employees in the Sales and Development departments, including their employee number, last name, first name, and department name\n",
    "#### QUESTION:  Is this currently or ever?\n",
    "#### Here is the History\n",
    "~~~~sql\n",
    "SELECT emp.emp_no AS \"Employee Number\", emp.last_name AS \"Last Name\", emp.first_name AS \"First Name\", \n",
    "    dpt.dept_name AS \"Department Name\"\n",
    "FROM \"Employees\" AS emp, \"Departments\" AS dpt, \"Dep_Emp\" AS dptEmp\n",
    "WHERE dpt.dept_no = dptEmp.dept_no AND dptEmp.emp_no = emp.emp_no AND (dpt.dept_name = 'Sales' OR dpt.dept_name = 'Development');\n",
    "~~~~\n",
    "![title](Output/Question7History.png)\n",
    "\n",
    "\n",
    "\n",
    "#### Here is the current\n",
    "~~~~sql\n",
    "SELECT emp.emp_no AS \"Employee Number\", emp.last_name AS \"Last Name\", emp.first_name AS \"First Name\", \n",
    "    dpt.dept_name AS \"Department Name\"\n",
    "FROM \"Employees\" AS emp, \"Departments\" AS dpt, \"Dep_Emp\" AS dptEmp\n",
    "WHERE dpt.dept_no = dptEmp.dept_no AND dptEmp.emp_no = emp.emp_no AND (dpt.dept_name = 'Sales' OR dpt.dept_name = 'Development') AND EXTRACT(year FROM dptEmp.to_date)=9999;\n",
    "~~~~\n",
    "![title](Output/Question7Current.png)\n",
    "\n",
    "\n",
    "\n",
    "### 8. In descending order, list the frequency count of employee last names, i.e., how many employees share each last name.\n",
    "~~~~sql\n",
    "SELECT last_name AS \"Last Name\", COUNT(last_name) AS \"Count\"\n",
    "FROM \"Employees\"\n",
    "GROUP BY last_name\n",
    "ORDER BY \"Count\" DESC;\n",
    "~~~~\n",
    "![title](Output/Question8.png)"
   ]
  },
  {
   "cell_type": "markdown",
   "metadata": {},
   "source": [
    "## Phase 2 - Graphical Analysis\n",
    "### Imports\n",
    "#### Pandas\n",
    "Data manipulation and analysis\n",
    "\n",
    "#### MatPlotLib Pyplot\n",
    "2D plotting\n",
    "\n",
    "#### Datetime\n",
    "Dates and time\n",
    "\n",
    "#### Numpy\n",
    "Supports large, multi-dimensional arrays and matrix manipulation and high level mathematical functions on these arrays\n",
    "\n",
    "#### SQLAlchemy\n",
    "Database Import"
   ]
  },
  {
   "cell_type": "code",
   "execution_count": null,
   "metadata": {},
   "outputs": [],
   "source": [
    "import pandas as pd\n",
    "import matplotlib.pyplot as plt\n",
    "import datetime\n",
    "import numpy as np\n",
    "from sqlalchemy import create_engine\n",
    "\n",
    "# Import db pw\n",
    "from keys import pw"
   ]
  },
  {
   "cell_type": "markdown",
   "metadata": {},
   "source": [
    "### Reusable References"
   ]
  },
  {
   "cell_type": "code",
   "execution_count": null,
   "metadata": {},
   "outputs": [],
   "source": [
    "BOLD = '\\033[1m'\n",
    "END = '\\033[0m'"
   ]
  },
  {
   "cell_type": "markdown",
   "metadata": {},
   "source": [
    "### Create the Database Connection"
   ]
  },
  {
   "cell_type": "code",
   "execution_count": null,
   "metadata": {},
   "outputs": [],
   "source": [
    "#db_uri = 'postgresql://postgres:' + pw + '@localhost:5432/SQLChallenge'\n",
    "#engine = create_engine(db_uri)\n",
    "#connection = engine.connect()"
   ]
  },
  {
   "cell_type": "markdown",
   "metadata": {},
   "source": [
    "# This code will be replaced with accessing the database"
   ]
  },
  {
   "cell_type": "code",
   "execution_count": null,
   "metadata": {},
   "outputs": [],
   "source": [
    "# Import Employees, Titles and Salaries csv's\n",
    "emp_csv = './data/employees.csv'\n",
    "empDateCols = ['birth_date', 'hire_date']\n",
    "employees = pd.read_csv(emp_csv, parse_dates=empDateCols)\n",
    "\n",
    "title_csv = './data/titles.csv'\n",
    "titleDateCols = ['from_date', 'to_date']\n",
    "titles = pd.read_csv(title_csv, parse_dates=titleDateCols)\n",
    "\n",
    "sal_csv = './data/salaries.csv'\n",
    "salaryDateCols = ['from_date', 'to_date']\n",
    "salaries = pd.read_csv(sal_csv, parse_dates=salaryDateCols)"
   ]
  },
  {
   "cell_type": "markdown",
   "metadata": {},
   "source": [
    "### Create a bar chart of average salary by title\n",
    "#### Assumption\n",
    "* Only include current employee salaries since historic salaries do not represent current day value"
   ]
  },
  {
   "cell_type": "markdown",
   "metadata": {},
   "source": [
    "#### Start by selecting only current employees"
   ]
  },
  {
   "cell_type": "code",
   "execution_count": null,
   "metadata": {},
   "outputs": [],
   "source": [
    "# Start with the salaries table and select only rows that contain a to_date year of 9999 (indicates current employee)\n",
    "# First, verify the data types of the to_date column\n",
    "print(BOLD + 'The to_date column of the salary dataframe is of type:' + END)\n",
    "print(type(salaries['to_date'].iat[0]))\n",
    "\n",
    "# Alternatively we can look at all columns at one time\n",
    "print(BOLD + '\\n\\nThe data types in the salary dataframe are:' + END)\n",
    "print(salaries.dtypes)\n",
    "\n",
    "# Now lets check value_counts\n",
    "print(BOLD + '\\n\\nThe value counts for the to_date column are:' + END)\n",
    "print(salaries['to_date'].value_counts().sort_values(ascending=False))\n",
    "\n",
    "print(BOLD + 'NOTE: There are no values for the year 9999, so we cannot use this column to determine current employees.' + END)\n",
    "# We can confirm, however that there are no values by creating a dataframe as well\n",
    "current_salary = salaries.loc[salaries['to_date'].dt.year==9999,:]\n",
    "print(BOLD + '\\n\\nThe results of searching for to_date values in the year 9999 are as expected with no returned values:' + END)\n",
    "print(current_salary)\n",
    "\n",
    "print(BOLD + 'NOTE:  The dataframe is empty which aligns with our expectations' + END)"
   ]
  },
  {
   "cell_type": "code",
   "execution_count": null,
   "metadata": {},
   "outputs": [],
   "source": [
    "# Results above show that not all to_date columns in this database use the same convention\n",
    "# Instead, lets check the titles table\n",
    "\n",
    "# we can look at all columns at one time to check for datatypes\n",
    "print(BOLD + 'The data types in the titles dataframe are:' + END)\n",
    "print(titles.dtypes)\n",
    "print(BOLD + 'NOTE:  The to_date column would not convert to datetime' + END)\n",
    "\n",
    "# Now lets check value_counts\n",
    "print(BOLD + '\\n\\nThe value counts for the to_date column are:' + END)\n",
    "print(titles['to_date'].value_counts(ascending=True))\n",
    "print(BOLD + 'NOTE:  There are roughly 24k employees currently.' + END)\n",
    "\n",
    "# NOTE - The titles table to_date column will not come in as a date, therefore we perform a string compare\n",
    "print(BOLD + \"\\n\\nTitles dataframe filtered for current employees (to_date = 9999-01-01):\" + END)\n",
    "titles['to_date'].value_counts(ascending=False)\n",
    "current_title = titles.loc[titles['to_date'] == '9999-01-01',:]\n",
    "current_title.head()"
   ]
  },
  {
   "cell_type": "markdown",
   "metadata": {},
   "source": [
    "#### Now, merge the titles (current employees), employees and salaries dataframes"
   ]
  },
  {
   "cell_type": "code",
   "execution_count": null,
   "metadata": {},
   "outputs": [],
   "source": [
    "# Start with merging employees to current titles\n",
    "print(BOLD + 'Employees merged with Titles (current employees only)' + END)\n",
    "emp_title = employees.merge(current_title, on='emp_no')\n",
    "emp_title.head()"
   ]
  },
  {
   "cell_type": "code",
   "execution_count": null,
   "metadata": {},
   "outputs": [],
   "source": [
    "# Now merge the salaries\n",
    "print(BOLD + 'Salaries merged with Employees and Titles (current employees only)' + END)\n",
    "emp_title_salary = emp_title.merge(salaries, on='emp_no').sort_values(['title'], ascending=True).reset_index()\n",
    "\n",
    "# Finally, let's select only the columns we need\n",
    "emp_title_salary = emp_title_salary[['title', 'salary']]\n",
    "emp_title_salary.head()"
   ]
  },
  {
   "cell_type": "markdown",
   "metadata": {},
   "source": [
    "#### Next, groupby title and create statistics used for graphing"
   ]
  },
  {
   "cell_type": "code",
   "execution_count": null,
   "metadata": {},
   "outputs": [],
   "source": [
    "# groupby title and create relevant statistics on the salary\n",
    "print(BOLD + 'Salary statistics by Title' + END)\n",
    "statistics_salary_by_title = emp_title_salary.groupby(['title']).aggregate(\n",
    "    {\n",
    "        'salary':['mean', 'median', 'min', 'max', 'count', 'sem']\n",
    "    }\n",
    ").sort_values(by=['title'], ascending=True)\n",
    "statistics_salary_by_title.columns = statistics_salary_by_title.columns.droplevel(0)\n",
    "statistics_salary_by_title.sort_values(['title'], ascending=True).reset_index()"
   ]
  },
  {
   "cell_type": "markdown",
   "metadata": {},
   "source": [
    "\n",
    "#### Create a Bar Chart to Show Average Salary by Job Title (and include error bars)"
   ]
  },
  {
   "cell_type": "code",
   "execution_count": null,
   "metadata": {},
   "outputs": [],
   "source": [
    "# Create plot\n",
    "fig, ax = plt.subplots(figsize=(14,8))\n",
    "plt.bar(statistics_salary_by_title.index, statistics_salary_by_title['mean'], color='green',\n",
    "        alpha=0.5, yerr=statistics_salary_by_title['sem'], label='Average Salary ($)')\n",
    "\n",
    "# Add labels and formatting\n",
    "plt.xlabel(\"Job Title\", weight='bold', size=12)\n",
    "plt.ylabel(\"Annual Salary ($)\", weight='bold', size=12)\n",
    "plt.title(\"Annual Salary by Job Title\", weight='bold', size=22)\n",
    "plt.xticks(statistics_salary_by_title.index, rotation=90)\n",
    "plt.legend(loc='best')\n",
    "plt.grid(alpha=0.2)\n",
    "\n",
    "# Save the chart out\n",
    "plt.savefig(\"./Output/SalaryByTitleBar.png\")\n",
    "\n",
    "# Show plot\n",
    "plt.show()"
   ]
  },
  {
   "cell_type": "markdown",
   "metadata": {},
   "source": [
    "#### Interesting... why does Manager have such large error bars?\n",
    "Let's dig a little more and plot the distributions via a box plot"
   ]
  },
  {
   "cell_type": "markdown",
   "metadata": {},
   "source": [
    "#### First, create a function"
   ]
  },
  {
   "cell_type": "code",
   "execution_count": null,
   "metadata": {},
   "outputs": [],
   "source": [
    "# Function comparing populations by Boxplots\n",
    "def boxPlotCompare(srStaff, staff, mgr, techLdr, eng, srEng, asstEng, title):\n",
    "    \n",
    "    # Set the figure size\n",
    "    fig = plt.figure(figsize=(14,8))\n",
    "    axBox = fig.add_subplot()\n",
    "    \n",
    "    # Show box plots of the data\n",
    "    box_plot_data=[srStaff, staff, mgr, techLdr, eng, srEng, asstEng]\n",
    "    plt.boxplot(box_plot_data)\n",
    "    \n",
    "    # Format the chart\n",
    "    plt.title(title, color='k', size=24, weight='bold')\n",
    "    plt.xticks([1, 2, 3, 4, 5, 6, 7], ['Assistant Engineer', 'Engineer', 'Manager', 'Senior Engineer', 'Senior Staff', 'Staff', 'Technique Leader'])    \n",
    "    plt.xlabel(\"Job Title\", size=14, weight='bold')\n",
    "    plt.ylabel(\"Salary ($)\", size=14, weight='bold')\n",
    "\n",
    "    # Save the chart out\n",
    "    plt.savefig(\"./Output/SalaryByTitleBoxPlot.png\")\n",
    "\n",
    "    # Show the chart\n",
    "    plt.show()\n",
    "       \n",
    "    return"
   ]
  },
  {
   "cell_type": "markdown",
   "metadata": {},
   "source": [
    "#### Next, create a series for each job title"
   ]
  },
  {
   "cell_type": "code",
   "execution_count": null,
   "metadata": {},
   "outputs": [],
   "source": [
    "# Create a salary series for each title\n",
    "srStaff = emp_title_salary.loc[(emp_title_salary['title']=='Senior Staff'),'salary']\n",
    "staff = emp_title_salary.loc[(emp_title_salary['title']=='Staff'),'salary']\n",
    "mgr = emp_title_salary.loc[(emp_title_salary['title']=='Manager'),'salary']\n",
    "techLdr = emp_title_salary.loc[(emp_title_salary['title']=='Technique Leader'),'salary']\n",
    "eng = emp_title_salary.loc[(emp_title_salary['title']=='Engineer'),'salary']\n",
    "srEng = emp_title_salary.loc[(emp_title_salary['title']=='Senior Engineer'),'salary']\n",
    "asstEng = emp_title_salary.loc[(emp_title_salary['title']=='Assistant Engineer'),'salary']"
   ]
  },
  {
   "cell_type": "markdown",
   "metadata": {},
   "source": [
    "#### Finally, plot the box plots"
   ]
  },
  {
   "cell_type": "code",
   "execution_count": null,
   "metadata": {},
   "outputs": [],
   "source": [
    "# Plot salaries by title in box plots\n",
    "boxPlotCompare(asstEng, eng, mgr, srEng, srStaff, staff, techLdr, \"Salaries ($) by Job Title - Current Employed\")"
   ]
  },
  {
   "cell_type": "markdown",
   "metadata": {},
   "source": [
    "#### Manager has a small range (25 percentile to 75 percentile) and the fewest outliers, but the largest errors.\n",
    "Let's dig more..."
   ]
  },
  {
   "cell_type": "markdown",
   "metadata": {},
   "source": [
    "#### This time, let's look at a scatter plot of the individual data and plot the median as a reference"
   ]
  },
  {
   "cell_type": "code",
   "execution_count": null,
   "metadata": {},
   "outputs": [],
   "source": [
    "# Plot the data\n",
    "fig = plt.figure(figsize=(14,8))\n",
    "ax = fig.add_subplot()\n",
    "plt.scatter(emp_title_salary[\"title\"], emp_title_salary[\"salary\"], c=\"b\", alpha=0.5, label='salary')\n",
    "plt.plot(statistics_salary_by_title.index, statistics_salary_by_title['median'], color='green', label='median')\n",
    "\n",
    "# format the chart\n",
    "plt.title(f'Salary ($) vs Job Title - Currently Employed', color='k', size=24, weight='bold')\n",
    "plt.xlabel('Job Title', weight='bold', size=12)\n",
    "plt.ylabel('Salary ($)', weight='bold', size=12)\n",
    "plt.grid(alpha=0.2)\n",
    "plt.legend(loc='best')\n",
    "\n",
    "# Save the chart out\n",
    "plt.savefig(\"./Output/SalaryByTitleScatterAndMedian.png\")\n",
    "\n",
    "# Show the plot\n",
    "plt.show()\n"
   ]
  },
  {
   "cell_type": "markdown",
   "metadata": {},
   "source": [
    "#### Interesting, there is very little data for Manager so there is a higher spread between points\n",
    "Let's now check how many data points there are"
   ]
  },
  {
   "cell_type": "code",
   "execution_count": null,
   "metadata": {},
   "outputs": [],
   "source": [
    "# Redisplay the statistics table\n",
    "print(BOLD + 'Statistics of Salaries by Job Title' + END)\n",
    "print(statistics_salary_by_title)\n",
    "\n",
    "print(BOLD + 'NOTE:  Manager only has 9 data points compared to thousands for the other titles.' + END)"
   ]
  },
  {
   "cell_type": "markdown",
   "metadata": {},
   "source": [
    "## Now, per the last item requested by the boss, look up employee id"
   ]
  },
  {
   "cell_type": "markdown",
   "metadata": {},
   "source": [
    "#### Look up Employee ID = 499942"
   ]
  },
  {
   "cell_type": "code",
   "execution_count": null,
   "metadata": {},
   "outputs": [],
   "source": [
    "my_info = employees.loc[employees[\"emp_no\"] == 499942, :]\n",
    "my_info"
   ]
  },
  {
   "cell_type": "markdown",
   "metadata": {},
   "source": [
    "#### NOTE the fact that suspicians were correct and the data is fake."
   ]
  }
 ],
 "metadata": {
  "kernelspec": {
   "display_name": "Python 3",
   "language": "python",
   "name": "python3"
  },
  "language_info": {
   "codemirror_mode": {
    "name": "ipython",
    "version": 3
   },
   "file_extension": ".py",
   "mimetype": "text/x-python",
   "name": "python",
   "nbconvert_exporter": "python",
   "pygments_lexer": "ipython3",
   "version": "3.6.9"
  }
 },
 "nbformat": 4,
 "nbformat_minor": 2
}
