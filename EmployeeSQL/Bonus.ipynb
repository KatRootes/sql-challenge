{
 "cells": [
  {
   "cell_type": "markdown",
   "metadata": {},
   "source": [
    "# Imports\n",
    "#### Pandas\n",
    "Data manipulation and analysis\n",
    "\n",
    "#### MatPlotLib Pyplot\n",
    "2D plotting\n",
    "\n",
    "#### Datetime\n",
    "Dates and time\n",
    "\n",
    "#### Numpy\n",
    "Supports large, multi-dimensional arrays and matrix manipulation and high level mathematical functions on these arrays\n",
    "\n",
    "#### SQLAlchemy\n",
    "Database Import"
   ]
  },
  {
   "cell_type": "code",
   "execution_count": null,
   "metadata": {},
   "outputs": [],
   "source": [
    "import pandas as pd\n",
    "import matplotlib.pyplot as plt\n",
    "import datetime\n",
    "import numpy as np\n",
    "from sqlalchemy import create_engine\n",
    "\n",
    "# Import db pw\n",
    "from keys import pw"
   ]
  },
  {
   "cell_type": "markdown",
   "metadata": {},
   "source": [
    "## Reusable References"
   ]
  },
  {
   "cell_type": "code",
   "execution_count": null,
   "metadata": {},
   "outputs": [],
   "source": [
    "BOLD = '\\033[1m'\n",
    "END = '\\033[0m'"
   ]
  },
  {
   "cell_type": "markdown",
   "metadata": {},
   "source": [
    "### Create the Database Connection"
   ]
  },
  {
   "cell_type": "code",
   "execution_count": null,
   "metadata": {},
   "outputs": [],
   "source": [
    "#db_uri = 'postgresql://postgres:' + pw + '@localhost:5432/SQLChallenge'\n",
    "#engine = create_engine(db_uri)\n",
    "#connection = engine.connect()"
   ]
  },
  {
   "cell_type": "markdown",
   "metadata": {},
   "source": [
    "# This code will be replaced with accessing the database"
   ]
  },
  {
   "cell_type": "code",
   "execution_count": null,
   "metadata": {},
   "outputs": [],
   "source": [
    "# Import Employees, Titles and Salaries csv's\n",
    "emp_csv = './data/employees.csv'\n",
    "empDateCols = ['birth_date', 'hire_date']\n",
    "employees = pd.read_csv(emp_csv, parse_dates=empDateCols)\n",
    "\n",
    "title_csv = './data/titles.csv'\n",
    "titleDateCols = ['from_date', 'to_date']\n",
    "titles = pd.read_csv(title_csv, parse_dates=titleDateCols)\n",
    "\n",
    "sal_csv = './data/salaries.csv'\n",
    "salaryDateCols = ['from_date', 'to_date']\n",
    "salaries = pd.read_csv(sal_csv, parse_dates=salaryDateCols)"
   ]
  },
  {
   "cell_type": "markdown",
   "metadata": {},
   "source": [
    "# Create a bar chart of average salary by title\n",
    "#### Assumption\n",
    "* Only include current employee salaries since historic salaries do not represent current day value"
   ]
  },
  {
   "cell_type": "markdown",
   "metadata": {},
   "source": [
    "### Start by selecting only current employees"
   ]
  },
  {
   "cell_type": "code",
   "execution_count": null,
   "metadata": {},
   "outputs": [],
   "source": [
    "# Start with the salaries table and select only rows that contain a to_date year of 9999 (indicates current employee)\n",
    "# First, verify the data types of the to_date column\n",
    "print(BOLD + 'The to_date column of the salary dataframe is of type:' + END)\n",
    "print(type(salaries['to_date'].iat[0]))\n",
    "\n",
    "# Alternatively we can look at all columns at one time\n",
    "print(BOLD + '\\n\\nThe data types in the salary dataframe are:' + END)\n",
    "print(salaries.dtypes)\n",
    "\n",
    "# Now lets check value_counts\n",
    "print(BOLD + '\\n\\nThe value counts for the to_date column are:' + END)\n",
    "print(salaries['to_date'].value_counts().sort_values(ascending=False))\n",
    "\n",
    "print(BOLD + 'NOTE: There are no values for the year 9999, so we cannot use this column to determine current employees.' + END)\n",
    "# We can confirm, however that there are no values by creating a dataframe as well\n",
    "current_salary = salaries.loc[salaries['to_date'].dt.year==9999,:]\n",
    "print(BOLD + '\\n\\nThe results of searching for to_date values in the year 9999 are as expected with no returned values:' + END)\n",
    "print(current_salary)\n",
    "\n",
    "print(BOLD + 'NOTE:  The dataframe is empty which aligns with our expectations' + END)"
   ]
  },
  {
   "cell_type": "code",
   "execution_count": null,
   "metadata": {},
   "outputs": [],
   "source": [
    "# Results above show that not all to_date columns in this database use the same convention\n",
    "# Instead, lets check the titles table\n",
    "\n",
    "# we can look at all columns at one time to check for datatypes\n",
    "print(BOLD + 'The data types in the titles dataframe are:' + END)\n",
    "print(titles.dtypes)\n",
    "print(BOLD + 'NOTE:  The to_date column would not convert to datetime' + END)\n",
    "\n",
    "# Now lets check value_counts\n",
    "print(BOLD + '\\n\\nThe value counts for the to_date column are:' + END)\n",
    "print(titles['to_date'].value_counts(ascending=True))\n",
    "print(BOLD + 'NOTE:  There are roughly 24k employees currently.' + END)\n",
    "\n",
    "# NOTE - The titles table to_date column will not come in as a date, therefore we perform a string compare\n",
    "print(BOLD + \"\\n\\nTitles dataframe filtered for current employees (to_date = 9999-01-01):\" + END)\n",
    "titles['to_date'].value_counts(ascending=False)\n",
    "current_title = titles.loc[titles['to_date'] == '9999-01-01',:]\n",
    "current_title.head()"
   ]
  },
  {
   "cell_type": "markdown",
   "metadata": {},
   "source": [
    "### Now, merge the titles (current employees), employees and salaries dataframes"
   ]
  },
  {
   "cell_type": "code",
   "execution_count": null,
   "metadata": {},
   "outputs": [],
   "source": [
    "# Start with merging employees to current titles\n",
    "print(BOLD + 'Employees merged with Titles (current employees only)' + END)\n",
    "emp_title = employees.merge(current_title, on='emp_no')\n",
    "emp_title.head()"
   ]
  },
  {
   "cell_type": "code",
   "execution_count": null,
   "metadata": {},
   "outputs": [],
   "source": [
    "# Now merge the salaries\n",
    "print(BOLD + 'Salaries merged with Employees and Titles (current employees only)' + END)\n",
    "emp_title_salary = emp_title.merge(salaries, on='emp_no').sort_values(['title'], ascending=True).reset_index()\n",
    "\n",
    "# Finally, let's select only the columns we need\n",
    "emp_title_salary = emp_title_salary[['title', 'salary']]\n",
    "emp_title_salary.head()"
   ]
  },
  {
   "cell_type": "markdown",
   "metadata": {},
   "source": [
    "### Next, groupby title and create statistics used for graphing"
   ]
  },
  {
   "cell_type": "code",
   "execution_count": null,
   "metadata": {},
   "outputs": [],
   "source": [
    "# groupby title and create relevant statistics on the salary\n",
    "print(BOLD + 'Salary statistics by Title' + END)\n",
    "statistics_salary_by_title = emp_title_salary.groupby(['title']).aggregate(\n",
    "    {\n",
    "        'salary':['mean', 'median', 'min', 'max', 'count', 'sem']\n",
    "    }\n",
    ").sort_values(by=['title'], ascending=True)\n",
    "statistics_salary_by_title.columns = statistics_salary_by_title.columns.droplevel(0)\n",
    "statistics_salary_by_title.sort_values(['title'], ascending=True).reset_index()"
   ]
  },
  {
   "cell_type": "markdown",
   "metadata": {},
   "source": [
    "\n",
    "### Create a Bar Chart to Show Average Salary by Job Title (and include error bars)"
   ]
  },
  {
   "cell_type": "code",
   "execution_count": null,
   "metadata": {},
   "outputs": [],
   "source": [
    "# Create plot\n",
    "fig, ax = plt.subplots(figsize=(14,8))\n",
    "plt.bar(statistics_salary_by_title.index, statistics_salary_by_title['mean'], color='green',\n",
    "        alpha=0.5, yerr=statistics_salary_by_title['sem'], label='Average Salary ($)')\n",
    "\n",
    "# Add labels and formatting\n",
    "plt.xlabel(\"Job Title\", weight='bold', size=12)\n",
    "plt.ylabel(\"Annual Salary ($)\", weight='bold', size=12)\n",
    "plt.title(\"Annual Salary by Job Title\", weight='bold', size=22)\n",
    "plt.xticks(statistics_salary_by_title.index, rotation=90)\n",
    "plt.legend(loc='best')\n",
    "plt.grid(alpha=0.2)\n",
    "\n",
    "# Save the chart out\n",
    "plt.savefig(\"./Output/SalaryByTitleBar.png\")\n",
    "\n",
    "# Show plot\n",
    "plt.show()"
   ]
  },
  {
   "cell_type": "markdown",
   "metadata": {},
   "source": [
    "### Interesting... why does Manager have such large error bars?\n",
    "Let's dig a little more and plot the distributions via a box plot"
   ]
  },
  {
   "cell_type": "markdown",
   "metadata": {},
   "source": [
    "#### First, create a function"
   ]
  },
  {
   "cell_type": "code",
   "execution_count": null,
   "metadata": {},
   "outputs": [],
   "source": [
    "# Function comparing populations by Boxplots\n",
    "def boxPlotCompare(srStaff, staff, mgr, techLdr, eng, srEng, asstEng, title):\n",
    "    \n",
    "    # Set the figure size\n",
    "    fig = plt.figure(figsize=(14,8))\n",
    "    axBox = fig.add_subplot()\n",
    "    \n",
    "    # Show box plots of the data\n",
    "    box_plot_data=[srStaff, staff, mgr, techLdr, eng, srEng, asstEng]\n",
    "    plt.boxplot(box_plot_data)\n",
    "    \n",
    "    # Format the chart\n",
    "    plt.title(title, color='k', size=24, weight='bold')\n",
    "    plt.xticks([1, 2, 3, 4, 5, 6, 7], ['Assistant Engineer', 'Engineer', 'Manager', 'Senior Engineer', 'Senior Staff', 'Staff', 'Technique Leader'])    \n",
    "    plt.xlabel(\"Job Title\", size=14, weight='bold')\n",
    "    plt.ylabel(\"Salary ($)\", size=14, weight='bold')\n",
    "\n",
    "    # Save the chart out\n",
    "    plt.savefig(\"./Output/SalaryByTitleBoxPlot.png\")\n",
    "\n",
    "    # Show the chart\n",
    "    plt.show()\n",
    "       \n",
    "    return"
   ]
  },
  {
   "cell_type": "markdown",
   "metadata": {},
   "source": [
    "#### Next, create a series for each job title"
   ]
  },
  {
   "cell_type": "code",
   "execution_count": null,
   "metadata": {},
   "outputs": [],
   "source": [
    "# Create a salary series for each title\n",
    "srStaff = emp_title_salary.loc[(emp_title_salary['title']=='Senior Staff'),'salary']\n",
    "staff = emp_title_salary.loc[(emp_title_salary['title']=='Staff'),'salary']\n",
    "mgr = emp_title_salary.loc[(emp_title_salary['title']=='Manager'),'salary']\n",
    "techLdr = emp_title_salary.loc[(emp_title_salary['title']=='Technique Leader'),'salary']\n",
    "eng = emp_title_salary.loc[(emp_title_salary['title']=='Engineer'),'salary']\n",
    "srEng = emp_title_salary.loc[(emp_title_salary['title']=='Senior Engineer'),'salary']\n",
    "asstEng = emp_title_salary.loc[(emp_title_salary['title']=='Assistant Engineer'),'salary']"
   ]
  },
  {
   "cell_type": "markdown",
   "metadata": {},
   "source": [
    "#### Finally, plot the box plots"
   ]
  },
  {
   "cell_type": "code",
   "execution_count": null,
   "metadata": {},
   "outputs": [],
   "source": [
    "# Plot salaries by title in box plots\n",
    "boxPlotCompare(asstEng, eng, mgr, srEng, srStaff, staff, techLdr, \"Salaries ($) by Job Title - Current Employed\")"
   ]
  },
  {
   "cell_type": "markdown",
   "metadata": {},
   "source": [
    "#### Manager has a small range (25 percentile to 75 percentile) and the fewest outliers, but the largest errors.\n",
    "Let's dig more..."
   ]
  },
  {
   "cell_type": "markdown",
   "metadata": {},
   "source": [
    "#### This time, let's look at a scatter plot of the individual data and plot the median as a reference"
   ]
  },
  {
   "cell_type": "code",
   "execution_count": null,
   "metadata": {},
   "outputs": [],
   "source": [
    "# Plot the data\n",
    "fig = plt.figure(figsize=(14,8))\n",
    "ax = fig.add_subplot()\n",
    "plt.scatter(emp_title_salary[\"title\"], emp_title_salary[\"salary\"], c=\"b\", alpha=0.5, label='salary')\n",
    "plt.plot(statistics_salary_by_title.index, statistics_salary_by_title['median'], color='green', label='median')\n",
    "\n",
    "# format the chart\n",
    "plt.title(f'Salary ($) vs Job Title - Currently Employed', color='k', size=24, weight='bold')\n",
    "plt.xlabel('Job Title', weight='bold', size=12)\n",
    "plt.ylabel('Salary ($)', weight='bold', size=12)\n",
    "plt.grid(alpha=0.2)\n",
    "plt.legend(loc='best')\n",
    "\n",
    "# Save the chart out\n",
    "plt.savefig(\"./Output/SalaryByTitleScatterAndMedian.png\")\n",
    "\n",
    "# Show the plot\n",
    "plt.show()\n"
   ]
  },
  {
   "cell_type": "markdown",
   "metadata": {},
   "source": [
    "#### Interesting, there is very little data for Manager so there is a higher spread between points\n",
    "Let's now check how many data points there are"
   ]
  },
  {
   "cell_type": "code",
   "execution_count": null,
   "metadata": {},
   "outputs": [],
   "source": [
    "# Redisplay the statistics table\n",
    "print(BOLD + 'Statistics of Salaries by Job Title' + END)\n",
    "print(statistics_salary_by_title)\n",
    "\n",
    "print(BOLD + 'NOTE:  Manager only has 9 data points compared to thousands for the other titles.' + END)"
   ]
  },
  {
   "cell_type": "markdown",
   "metadata": {},
   "source": [
    "## Now, per the last item requested by the boss, look up employee id"
   ]
  },
  {
   "cell_type": "markdown",
   "metadata": {},
   "source": [
    "#### Look up Employee ID = 499942"
   ]
  },
  {
   "cell_type": "code",
   "execution_count": null,
   "metadata": {},
   "outputs": [],
   "source": [
    "my_info = employees.loc[employees[\"emp_no\"] == 499942, :]\n",
    "my_info"
   ]
  },
  {
   "cell_type": "markdown",
   "metadata": {},
   "source": [
    "#### NOTE the fact that suspicians were correct and the data is fake."
   ]
  }
 ],
 "metadata": {
  "kernelspec": {
   "display_name": "Python 3",
   "language": "python",
   "name": "python3"
  },
  "language_info": {
   "codemirror_mode": {
    "name": "ipython",
    "version": 3
   },
   "file_extension": ".py",
   "mimetype": "text/x-python",
   "name": "python",
   "nbconvert_exporter": "python",
   "pygments_lexer": "ipython3",
   "version": "3.6.9"
  }
 },
 "nbformat": 4,
 "nbformat_minor": 2
}
