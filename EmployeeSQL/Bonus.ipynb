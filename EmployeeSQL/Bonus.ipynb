{
 "cells": [
  {
   "cell_type": "markdown",
   "metadata": {},
   "source": [
    "# Imports\n",
    "#### Pandas\n",
    "Data manipulation and analysis\n",
    "\n",
    "#### MatPlotLib Pyplot\n",
    "2D plotting\n",
    "\n",
    "#### Datetime\n",
    "Dates and time\n",
    "\n",
    "#### Numpy\n",
    "Supports large, multi-dimensional arrays and matrix manipulation and high level mathematical functions on these arrays\n",
    "\n",
    "#### SQLAlchemy\n",
    "Database Import"
   ]
  },
  {
   "cell_type": "code",
   "execution_count": 1,
   "metadata": {},
   "outputs": [],
   "source": [
    "import pandas as pd\n",
    "import matplotlib.pyplot as plt\n",
    "import datetime\n",
    "import numpy as np\n",
    "from sqlalchemy import create_engine\n",
    "\n",
    "# Import db pw\n",
    "from keys import pw"
   ]
  },
  {
   "cell_type": "markdown",
   "metadata": {},
   "source": [
    "## Reusable References"
   ]
  },
  {
   "cell_type": "code",
   "execution_count": 2,
   "metadata": {},
   "outputs": [],
   "source": [
    "BOLD = '\\033[1m'\n",
    "END = '\\033[0m'"
   ]
  },
  {
   "cell_type": "markdown",
   "metadata": {},
   "source": [
    "### Create the Database Connection"
   ]
  },
  {
   "cell_type": "code",
   "execution_count": 3,
   "metadata": {},
   "outputs": [],
   "source": [
    "#db_uri = 'postgresql://postgres:' + pw + '@localhost:5432/SQLChallenge'\n",
    "#engine = create_engine(db_uri)\n",
    "#connection = engine.connect()"
   ]
  },
  {
   "cell_type": "markdown",
   "metadata": {},
   "source": [
    "# This code will be replaced with accessing the database"
   ]
  },
  {
   "cell_type": "code",
   "execution_count": 4,
   "metadata": {},
   "outputs": [],
   "source": [
    "# Import Employees, Titles and Salaries csv's\n",
    "emp_csv = './data/employees.csv'\n",
    "empDateCols = ['birth_date', 'hire_date']\n",
    "employees = pd.read_csv(emp_csv, parse_dates=empDateCols)\n",
    "\n",
    "title_csv = './data/titles.csv'\n",
    "titleDateCols = ['from_date', 'to_date']\n",
    "titles = pd.read_csv(title_csv, parse_dates=titleDateCols)\n",
    "\n",
    "sal_csv = './data/salaries.csv'\n",
    "salaryDateCols = ['from_date', 'to_date']\n",
    "salaries = pd.read_csv(sal_csv, parse_dates=salaryDateCols)"
   ]
  },
  {
   "cell_type": "markdown",
   "metadata": {},
   "source": [
    "# Create a bar chart of average salary by title\n",
    "#### Assumption\n",
    "* Only include current employee salaries since historic salaries do not represent current day value"
   ]
  },
  {
   "cell_type": "markdown",
   "metadata": {},
   "source": [
    "### Start by selecting only current employees"
   ]
  },
  {
   "cell_type": "code",
   "execution_count": 5,
   "metadata": {},
   "outputs": [
    {
     "name": "stdout",
     "output_type": "stream",
     "text": [
      "\u001b[1mThe to_date column of the salary dataframe is of type:\u001b[0m\n",
      "<class 'pandas._libs.tslibs.timestamps.Timestamp'>\n",
      "\u001b[1m\n",
      "\n",
      "The data types in the salary dataframe are:\u001b[0m\n",
      "emp_no                int64\n",
      "salary                int64\n",
      "from_date    datetime64[ns]\n",
      "to_date      datetime64[ns]\n",
      "dtype: object\n",
      "\u001b[1m\n",
      "\n",
      "The value counts for the to_date column are:\u001b[0m\n",
      "1995-10-29    120\n",
      "1997-10-26    117\n",
      "1989-10-29    115\n",
      "1990-10-28    115\n",
      "1998-10-25    111\n",
      "             ... \n",
      "1985-11-28      1\n",
      "1985-05-23      1\n",
      "1985-03-11      1\n",
      "1985-09-08      1\n",
      "1985-04-20      1\n",
      "Name: to_date, Length: 5568, dtype: int64\n",
      "\u001b[1mNOTE: There are no values for the year 9999, so we cannot use this column to determine current employees.\u001b[0m\n",
      "\u001b[1m\n",
      "\n",
      "The results of searching for to_date values in the year 9999 are as expected with no returned values:\u001b[0m\n",
      "Empty DataFrame\n",
      "Columns: [emp_no, salary, from_date, to_date]\n",
      "Index: []\n",
      "\u001b[1mNOTE:  The dataframe is empty which aligns with our expectations\u001b[0m\n"
     ]
    }
   ],
   "source": [
    "# Start with the salaries table and select only rows that contain a to_date year of 9999 (indicates current employee)\n",
    "# First, verify the data types of the to_date column\n",
    "print(BOLD + 'The to_date column of the salary dataframe is of type:' + END)\n",
    "print(type(salaries['to_date'].iat[0]))\n",
    "\n",
    "# Alternatively we can look at all columns at one time\n",
    "print(BOLD + '\\n\\nThe data types in the salary dataframe are:' + END)\n",
    "print(salaries.dtypes)\n",
    "\n",
    "# Now lets check value_counts\n",
    "print(BOLD + '\\n\\nThe value counts for the to_date column are:' + END)\n",
    "print(salaries['to_date'].value_counts().sort_values(ascending=False))\n",
    "\n",
    "print(BOLD + 'NOTE: There are no values for the year 9999, so we cannot use this column to determine current employees.' + END)\n",
    "# We can confirm, however that there are no values by creating a dataframe as well\n",
    "current_salary = salaries.loc[salaries['to_date'].dt.year==9999,:]\n",
    "print(BOLD + '\\n\\nThe results of searching for to_date values in the year 9999 are as expected with no returned values:' + END)\n",
    "print(current_salary)\n",
    "\n",
    "print(BOLD + 'NOTE:  The dataframe is empty which aligns with our expectations' + END)"
   ]
  },
  {
   "cell_type": "code",
   "execution_count": 6,
   "metadata": {},
   "outputs": [
    {
     "name": "stdout",
     "output_type": "stream",
     "text": [
      "\u001b[1mThe data types in the titles dataframe are:\u001b[0m\n",
      "emp_no                int64\n",
      "title                object\n",
      "from_date    datetime64[ns]\n",
      "to_date              object\n",
      "dtype: object\n",
      "\u001b[1mNOTE:  The to_date column would not convert to datetime\u001b[0m\n",
      "\u001b[1m\n",
      "\n",
      "The value counts for the to_date column are:\u001b[0m\n",
      "1987-06-27         1\n",
      "1987-10-09         1\n",
      "1985-12-05         1\n",
      "1986-08-21         1\n",
      "1987-11-09         1\n",
      "               ...  \n",
      "2001-06-26        79\n",
      "2000-08-15        81\n",
      "1997-10-26        88\n",
      "1998-10-25        91\n",
      "9999-01-01    240124\n",
      "Name: to_date, Length: 5888, dtype: int64\n",
      "\u001b[1mNOTE:  There are roughly 24k employees currently.\u001b[0m\n",
      "\u001b[1m\n",
      "\n",
      "Titles dataframe filtered for current employees (to_date = 9999-01-01):\u001b[0m\n"
     ]
    },
    {
     "data": {
      "text/html": [
       "<div>\n",
       "<style scoped>\n",
       "    .dataframe tbody tr th:only-of-type {\n",
       "        vertical-align: middle;\n",
       "    }\n",
       "\n",
       "    .dataframe tbody tr th {\n",
       "        vertical-align: top;\n",
       "    }\n",
       "\n",
       "    .dataframe thead th {\n",
       "        text-align: right;\n",
       "    }\n",
       "</style>\n",
       "<table border=\"1\" class=\"dataframe\">\n",
       "  <thead>\n",
       "    <tr style=\"text-align: right;\">\n",
       "      <th></th>\n",
       "      <th>emp_no</th>\n",
       "      <th>title</th>\n",
       "      <th>from_date</th>\n",
       "      <th>to_date</th>\n",
       "    </tr>\n",
       "  </thead>\n",
       "  <tbody>\n",
       "    <tr>\n",
       "      <td>0</td>\n",
       "      <td>10001</td>\n",
       "      <td>Senior Engineer</td>\n",
       "      <td>1986-06-26</td>\n",
       "      <td>9999-01-01</td>\n",
       "    </tr>\n",
       "    <tr>\n",
       "      <td>1</td>\n",
       "      <td>10002</td>\n",
       "      <td>Staff</td>\n",
       "      <td>1996-08-03</td>\n",
       "      <td>9999-01-01</td>\n",
       "    </tr>\n",
       "    <tr>\n",
       "      <td>2</td>\n",
       "      <td>10003</td>\n",
       "      <td>Senior Engineer</td>\n",
       "      <td>1995-12-03</td>\n",
       "      <td>9999-01-01</td>\n",
       "    </tr>\n",
       "    <tr>\n",
       "      <td>4</td>\n",
       "      <td>10004</td>\n",
       "      <td>Senior Engineer</td>\n",
       "      <td>1995-12-01</td>\n",
       "      <td>9999-01-01</td>\n",
       "    </tr>\n",
       "    <tr>\n",
       "      <td>5</td>\n",
       "      <td>10005</td>\n",
       "      <td>Senior Staff</td>\n",
       "      <td>1996-09-12</td>\n",
       "      <td>9999-01-01</td>\n",
       "    </tr>\n",
       "  </tbody>\n",
       "</table>\n",
       "</div>"
      ],
      "text/plain": [
       "   emp_no            title  from_date     to_date\n",
       "0   10001  Senior Engineer 1986-06-26  9999-01-01\n",
       "1   10002            Staff 1996-08-03  9999-01-01\n",
       "2   10003  Senior Engineer 1995-12-03  9999-01-01\n",
       "4   10004  Senior Engineer 1995-12-01  9999-01-01\n",
       "5   10005     Senior Staff 1996-09-12  9999-01-01"
      ]
     },
     "execution_count": 6,
     "metadata": {},
     "output_type": "execute_result"
    }
   ],
   "source": [
    "# Results above show that not all to_date columns in this database use the same convention\n",
    "# Instead, lets check the titles table\n",
    "\n",
    "# we can look at all columns at one time to check for datatypes\n",
    "print(BOLD + 'The data types in the titles dataframe are:' + END)\n",
    "print(titles.dtypes)\n",
    "print(BOLD + 'NOTE:  The to_date column would not convert to datetime' + END)\n",
    "\n",
    "# Now lets check value_counts\n",
    "print(BOLD + '\\n\\nThe value counts for the to_date column are:' + END)\n",
    "print(titles['to_date'].value_counts(ascending=True))\n",
    "print(BOLD + 'NOTE:  There are roughly 24k employees currently.' + END)\n",
    "\n",
    "# NOTE - The titles table to_date column will not come in as a date, therefore we perform a string compare\n",
    "print(BOLD + \"\\n\\nTitles dataframe filtered for current employees (to_date = 9999-01-01):\" + END)\n",
    "titles['to_date'].value_counts(ascending=False)\n",
    "current_title = titles.loc[titles['to_date'] == '9999-01-01',:]\n",
    "current_title.head()"
   ]
  },
  {
   "cell_type": "markdown",
   "metadata": {},
   "source": [
    "### Now, merge the titles (current employees), employees and salaries dataframes"
   ]
  },
  {
   "cell_type": "code",
   "execution_count": 7,
   "metadata": {},
   "outputs": [
    {
     "name": "stdout",
     "output_type": "stream",
     "text": [
      "\u001b[1mEmployees merged with Titles (current employees only)\u001b[0m\n"
     ]
    },
    {
     "data": {
      "text/html": [
       "<div>\n",
       "<style scoped>\n",
       "    .dataframe tbody tr th:only-of-type {\n",
       "        vertical-align: middle;\n",
       "    }\n",
       "\n",
       "    .dataframe tbody tr th {\n",
       "        vertical-align: top;\n",
       "    }\n",
       "\n",
       "    .dataframe thead th {\n",
       "        text-align: right;\n",
       "    }\n",
       "</style>\n",
       "<table border=\"1\" class=\"dataframe\">\n",
       "  <thead>\n",
       "    <tr style=\"text-align: right;\">\n",
       "      <th></th>\n",
       "      <th>emp_no</th>\n",
       "      <th>birth_date</th>\n",
       "      <th>first_name</th>\n",
       "      <th>last_name</th>\n",
       "      <th>gender</th>\n",
       "      <th>hire_date</th>\n",
       "      <th>title</th>\n",
       "      <th>from_date</th>\n",
       "      <th>to_date</th>\n",
       "    </tr>\n",
       "  </thead>\n",
       "  <tbody>\n",
       "    <tr>\n",
       "      <td>0</td>\n",
       "      <td>10001</td>\n",
       "      <td>1953-09-02</td>\n",
       "      <td>Georgi</td>\n",
       "      <td>Facello</td>\n",
       "      <td>M</td>\n",
       "      <td>1986-06-26</td>\n",
       "      <td>Senior Engineer</td>\n",
       "      <td>1986-06-26</td>\n",
       "      <td>9999-01-01</td>\n",
       "    </tr>\n",
       "    <tr>\n",
       "      <td>1</td>\n",
       "      <td>10002</td>\n",
       "      <td>1964-06-02</td>\n",
       "      <td>Bezalel</td>\n",
       "      <td>Simmel</td>\n",
       "      <td>F</td>\n",
       "      <td>1985-11-21</td>\n",
       "      <td>Staff</td>\n",
       "      <td>1996-08-03</td>\n",
       "      <td>9999-01-01</td>\n",
       "    </tr>\n",
       "    <tr>\n",
       "      <td>2</td>\n",
       "      <td>10003</td>\n",
       "      <td>1959-12-03</td>\n",
       "      <td>Parto</td>\n",
       "      <td>Bamford</td>\n",
       "      <td>M</td>\n",
       "      <td>1986-08-28</td>\n",
       "      <td>Senior Engineer</td>\n",
       "      <td>1995-12-03</td>\n",
       "      <td>9999-01-01</td>\n",
       "    </tr>\n",
       "    <tr>\n",
       "      <td>3</td>\n",
       "      <td>10004</td>\n",
       "      <td>1954-05-01</td>\n",
       "      <td>Chirstian</td>\n",
       "      <td>Koblick</td>\n",
       "      <td>M</td>\n",
       "      <td>1986-12-01</td>\n",
       "      <td>Senior Engineer</td>\n",
       "      <td>1995-12-01</td>\n",
       "      <td>9999-01-01</td>\n",
       "    </tr>\n",
       "    <tr>\n",
       "      <td>4</td>\n",
       "      <td>10005</td>\n",
       "      <td>1955-01-21</td>\n",
       "      <td>Kyoichi</td>\n",
       "      <td>Maliniak</td>\n",
       "      <td>M</td>\n",
       "      <td>1989-09-12</td>\n",
       "      <td>Senior Staff</td>\n",
       "      <td>1996-09-12</td>\n",
       "      <td>9999-01-01</td>\n",
       "    </tr>\n",
       "  </tbody>\n",
       "</table>\n",
       "</div>"
      ],
      "text/plain": [
       "   emp_no birth_date first_name last_name gender  hire_date            title  \\\n",
       "0   10001 1953-09-02     Georgi   Facello      M 1986-06-26  Senior Engineer   \n",
       "1   10002 1964-06-02    Bezalel    Simmel      F 1985-11-21            Staff   \n",
       "2   10003 1959-12-03      Parto   Bamford      M 1986-08-28  Senior Engineer   \n",
       "3   10004 1954-05-01  Chirstian   Koblick      M 1986-12-01  Senior Engineer   \n",
       "4   10005 1955-01-21    Kyoichi  Maliniak      M 1989-09-12     Senior Staff   \n",
       "\n",
       "   from_date     to_date  \n",
       "0 1986-06-26  9999-01-01  \n",
       "1 1996-08-03  9999-01-01  \n",
       "2 1995-12-03  9999-01-01  \n",
       "3 1995-12-01  9999-01-01  \n",
       "4 1996-09-12  9999-01-01  "
      ]
     },
     "execution_count": 7,
     "metadata": {},
     "output_type": "execute_result"
    }
   ],
   "source": [
    "# Start with merging employees to current titles\n",
    "print(BOLD + 'Employees merged with Titles (current employees only)' + END)\n",
    "emp_title = employees.merge(current_title, on='emp_no')\n",
    "emp_title.head()"
   ]
  },
  {
   "cell_type": "code",
   "execution_count": 8,
   "metadata": {},
   "outputs": [
    {
     "name": "stdout",
     "output_type": "stream",
     "text": [
      "\u001b[1mSalaries merged with Employees and Titles (current employees only)\u001b[0m\n"
     ]
    },
    {
     "data": {
      "text/html": [
       "<div>\n",
       "<style scoped>\n",
       "    .dataframe tbody tr th:only-of-type {\n",
       "        vertical-align: middle;\n",
       "    }\n",
       "\n",
       "    .dataframe tbody tr th {\n",
       "        vertical-align: top;\n",
       "    }\n",
       "\n",
       "    .dataframe thead th {\n",
       "        text-align: right;\n",
       "    }\n",
       "</style>\n",
       "<table border=\"1\" class=\"dataframe\">\n",
       "  <thead>\n",
       "    <tr style=\"text-align: right;\">\n",
       "      <th></th>\n",
       "      <th>title</th>\n",
       "      <th>salary</th>\n",
       "    </tr>\n",
       "  </thead>\n",
       "  <tbody>\n",
       "    <tr>\n",
       "      <td>0</td>\n",
       "      <td>Assistant Engineer</td>\n",
       "      <td>41396</td>\n",
       "    </tr>\n",
       "    <tr>\n",
       "      <td>1</td>\n",
       "      <td>Assistant Engineer</td>\n",
       "      <td>66958</td>\n",
       "    </tr>\n",
       "    <tr>\n",
       "      <td>2</td>\n",
       "      <td>Assistant Engineer</td>\n",
       "      <td>40000</td>\n",
       "    </tr>\n",
       "    <tr>\n",
       "      <td>3</td>\n",
       "      <td>Assistant Engineer</td>\n",
       "      <td>55072</td>\n",
       "    </tr>\n",
       "    <tr>\n",
       "      <td>4</td>\n",
       "      <td>Assistant Engineer</td>\n",
       "      <td>40000</td>\n",
       "    </tr>\n",
       "  </tbody>\n",
       "</table>\n",
       "</div>"
      ],
      "text/plain": [
       "                title  salary\n",
       "0  Assistant Engineer   41396\n",
       "1  Assistant Engineer   66958\n",
       "2  Assistant Engineer   40000\n",
       "3  Assistant Engineer   55072\n",
       "4  Assistant Engineer   40000"
      ]
     },
     "execution_count": 8,
     "metadata": {},
     "output_type": "execute_result"
    }
   ],
   "source": [
    "# Now merge the salaries\n",
    "print(BOLD + 'Salaries merged with Employees and Titles (current employees only)' + END)\n",
    "emp_title_salary = emp_title.merge(salaries, on='emp_no').sort_values(['title'], ascending=True).reset_index()\n",
    "\n",
    "# Finally, let's select only the columns we need\n",
    "emp_title_salary = emp_title_salary[['title', 'salary']]\n",
    "emp_title_salary.head()"
   ]
  },
  {
   "cell_type": "markdown",
   "metadata": {},
   "source": [
    "### Next, groupby title and create statistics used for graphing"
   ]
  },
  {
   "cell_type": "code",
   "execution_count": 9,
   "metadata": {},
   "outputs": [
    {
     "name": "stdout",
     "output_type": "stream",
     "text": [
      "\u001b[1mSalary statistics by Title\u001b[0m\n"
     ]
    },
    {
     "data": {
      "text/html": [
       "<div>\n",
       "<style scoped>\n",
       "    .dataframe tbody tr th:only-of-type {\n",
       "        vertical-align: middle;\n",
       "    }\n",
       "\n",
       "    .dataframe tbody tr th {\n",
       "        vertical-align: top;\n",
       "    }\n",
       "\n",
       "    .dataframe thead th {\n",
       "        text-align: right;\n",
       "    }\n",
       "</style>\n",
       "<table border=\"1\" class=\"dataframe\">\n",
       "  <thead>\n",
       "    <tr style=\"text-align: right;\">\n",
       "      <th></th>\n",
       "      <th>title</th>\n",
       "      <th>mean</th>\n",
       "      <th>median</th>\n",
       "      <th>min</th>\n",
       "      <th>max</th>\n",
       "      <th>count</th>\n",
       "      <th>sem</th>\n",
       "    </tr>\n",
       "  </thead>\n",
       "  <tbody>\n",
       "    <tr>\n",
       "      <td>0</td>\n",
       "      <td>Assistant Engineer</td>\n",
       "      <td>48436.856187</td>\n",
       "      <td>44436.5</td>\n",
       "      <td>40000</td>\n",
       "      <td>99683</td>\n",
       "      <td>3588</td>\n",
       "      <td>170.178787</td>\n",
       "    </tr>\n",
       "    <tr>\n",
       "      <td>1</td>\n",
       "      <td>Engineer</td>\n",
       "      <td>48532.428751</td>\n",
       "      <td>44489.0</td>\n",
       "      <td>40000</td>\n",
       "      <td>100683</td>\n",
       "      <td>30983</td>\n",
       "      <td>58.671993</td>\n",
       "    </tr>\n",
       "    <tr>\n",
       "      <td>2</td>\n",
       "      <td>Manager</td>\n",
       "      <td>49600.555556</td>\n",
       "      <td>45169.0</td>\n",
       "      <td>40000</td>\n",
       "      <td>71148</td>\n",
       "      <td>9</td>\n",
       "      <td>4207.742157</td>\n",
       "    </tr>\n",
       "    <tr>\n",
       "      <td>3</td>\n",
       "      <td>Senior Engineer</td>\n",
       "      <td>48501.994322</td>\n",
       "      <td>44486.0</td>\n",
       "      <td>40000</td>\n",
       "      <td>110449</td>\n",
       "      <td>85939</td>\n",
       "      <td>34.983389</td>\n",
       "    </tr>\n",
       "    <tr>\n",
       "      <td>4</td>\n",
       "      <td>Senior Staff</td>\n",
       "      <td>58511.960170</td>\n",
       "      <td>56450.0</td>\n",
       "      <td>40000</td>\n",
       "      <td>129492</td>\n",
       "      <td>82024</td>\n",
       "      <td>57.601367</td>\n",
       "    </tr>\n",
       "    <tr>\n",
       "      <td>5</td>\n",
       "      <td>Staff</td>\n",
       "      <td>58448.920003</td>\n",
       "      <td>56387.0</td>\n",
       "      <td>40000</td>\n",
       "      <td>127041</td>\n",
       "      <td>25526</td>\n",
       "      <td>103.146245</td>\n",
       "    </tr>\n",
       "    <tr>\n",
       "      <td>6</td>\n",
       "      <td>Technique Leader</td>\n",
       "      <td>48532.833762</td>\n",
       "      <td>44427.0</td>\n",
       "      <td>40000</td>\n",
       "      <td>104065</td>\n",
       "      <td>12055</td>\n",
       "      <td>93.750308</td>\n",
       "    </tr>\n",
       "  </tbody>\n",
       "</table>\n",
       "</div>"
      ],
      "text/plain": [
       "                title          mean   median    min     max  count  \\\n",
       "0  Assistant Engineer  48436.856187  44436.5  40000   99683   3588   \n",
       "1            Engineer  48532.428751  44489.0  40000  100683  30983   \n",
       "2             Manager  49600.555556  45169.0  40000   71148      9   \n",
       "3     Senior Engineer  48501.994322  44486.0  40000  110449  85939   \n",
       "4        Senior Staff  58511.960170  56450.0  40000  129492  82024   \n",
       "5               Staff  58448.920003  56387.0  40000  127041  25526   \n",
       "6    Technique Leader  48532.833762  44427.0  40000  104065  12055   \n",
       "\n",
       "           sem  \n",
       "0   170.178787  \n",
       "1    58.671993  \n",
       "2  4207.742157  \n",
       "3    34.983389  \n",
       "4    57.601367  \n",
       "5   103.146245  \n",
       "6    93.750308  "
      ]
     },
     "execution_count": 9,
     "metadata": {},
     "output_type": "execute_result"
    }
   ],
   "source": [
    "# groupby title and create relevant statistics on the salary\n",
    "print(BOLD + 'Salary statistics by Title' + END)\n",
    "statistics_salary_by_title = emp_title_salary.groupby(['title']).aggregate(\n",
    "    {\n",
    "        'salary':['mean', 'median', 'min', 'max', 'count', 'sem']\n",
    "    }\n",
    ").sort_values(by=['title'], ascending=True)\n",
    "statistics_salary_by_title.columns = statistics_salary_by_title.columns.droplevel(0)\n",
    "statistics_salary_by_title.sort_values(['title'], ascending=True).reset_index()"
   ]
  },
  {
   "cell_type": "markdown",
   "metadata": {},
   "source": [
    "\n",
    "### Create a Bar Chart to Show Average Salary by Job Title (and include error bars)"
   ]
  },
  {
   "cell_type": "code",
   "execution_count": 10,
   "metadata": {},
   "outputs": [
    {
     "data": {
      "image/png": "[encoded data removed]",
      "text/plain": [
       "<Figure size 1008x576 with 1 Axes>"
      ]
     },
     "metadata": {
      "needs_background": "light"
     },
     "output_type": "display_data"
    }
   ],
   "source": [
    "# Create plot\n",
    "fig, ax = plt.subplots(figsize=(14,8))\n",
    "plt.bar(statistics_salary_by_title.index, statistics_salary_by_title['mean'], color='green',\n",
    "        alpha=0.5, yerr=statistics_salary_by_title['sem'], label='Average Salary ($)')\n",
    "\n",
    "# Add labels and formatting\n",
    "plt.xlabel(\"Job Title\", weight='bold', size=12)\n",
    "plt.ylabel(\"Annual Salary ($)\", weight='bold', size=12)\n",
    "plt.title(\"Annual Salary by Job Title\", weight='bold', size=22)\n",
    "plt.xticks(statistics_salary_by_title.index, rotation=90)\n",
    "plt.legend(loc='best')\n",
    "plt.grid(alpha=0.2)\n",
    "\n",
    "# Save the chart out\n",
    "plt.savefig(\"./Output/SalaryByTitleBar.png\")\n",
    "\n",
    "# Show plot\n",
    "plt.show()"
   ]
  },
  {
   "cell_type": "markdown",
   "metadata": {},
   "source": [
    "### Interesting... why does Manager have such large error bars?\n",
    "Let's dig a little more and plot the distributions via a box plot"
   ]
  },
  {
   "cell_type": "markdown",
   "metadata": {},
   "source": [
    "#### First, create a function"
   ]
  },
  {
   "cell_type": "code",
   "execution_count": 11,
   "metadata": {},
   "outputs": [],
   "source": [
    "# Function comparing populations by Boxplots\n",
    "def boxPlotCompare(srStaff, staff, mgr, techLdr, eng, srEng, asstEng, title):\n",
    "    \n",
    "    # Set the figure size\n",
    "    fig = plt.figure(figsize=(14,8))\n",
    "    axBox = fig.add_subplot()\n",
    "    \n",
    "    # Show box plots of the data\n",
    "    box_plot_data=[srStaff, staff, mgr, techLdr, eng, srEng, asstEng]\n",
    "    plt.boxplot(box_plot_data)\n",
    "    \n",
    "    # Format the chart\n",
    "    plt.title(title, color='k', size=24, weight='bold')\n",
    "    plt.xticks([1, 2, 3, 4, 5, 6, 7], ['Assistant Engineer', 'Engineer', 'Manager', 'Senior Engineer', 'Senior Staff', 'Staff', 'Technique Leader'])    \n",
    "    plt.xlabel(\"Job Title\", size=14, weight='bold')\n",
    "    plt.ylabel(\"Salary ($)\", size=14, weight='bold')\n",
    "\n",
    "    # Save the chart out\n",
    "    plt.savefig(\"./Output/SalaryByTitleBoxPlot.png\")\n",
    "\n",
    "    # Show the chart\n",
    "    plt.show()\n",
    "       \n",
    "    return"
   ]
  },
  {
   "cell_type": "markdown",
   "metadata": {},
   "source": [
    "#### Next, create a series for each job title"
   ]
  },
  {
   "cell_type": "code",
   "execution_count": 12,
   "metadata": {},
   "outputs": [],
   "source": [
    "# Create a salary series for each title\n",
    "srStaff = emp_title_salary.loc[(emp_title_salary['title']=='Senior Staff'),'salary']\n",
    "staff = emp_title_salary.loc[(emp_title_salary['title']=='Staff'),'salary']\n",
    "mgr = emp_title_salary.loc[(emp_title_salary['title']=='Manager'),'salary']\n",
    "techLdr = emp_title_salary.loc[(emp_title_salary['title']=='Technique Leader'),'salary']\n",
    "eng = emp_title_salary.loc[(emp_title_salary['title']=='Engineer'),'salary']\n",
    "srEng = emp_title_salary.loc[(emp_title_salary['title']=='Senior Engineer'),'salary']\n",
    "asstEng = emp_title_salary.loc[(emp_title_salary['title']=='Assistant Engineer'),'salary']"
   ]
  },
  {
   "cell_type": "markdown",
   "metadata": {},
   "source": [
    "#### Finally, plot the box plots"
   ]
  },
  {
   "cell_type": "code",
   "execution_count": 13,
   "metadata": {},
   "outputs": [
    {
     "data": {
      "image/png": "[encoded data removed]",
      "text/plain": [
       "<Figure size 1008x576 with 1 Axes>"
      ]
     },
     "metadata": {
      "needs_background": "light"
     },
     "output_type": "display_data"
    }
   ],
   "source": [
    "# Plot salaries by title in box plots\n",
    "boxPlotCompare(asstEng, eng, mgr, srEng, srStaff, staff, techLdr, \"Salaries ($) by Job Title - Current Employed\")"
   ]
  },
  {
   "cell_type": "markdown",
   "metadata": {},
   "source": [
    "#### Manager has a small range (25 percentile to 75 percentile) and the fewest outliers, but the largest errors.\n",
    "Let's dig more..."
   ]
  },
  {
   "cell_type": "markdown",
   "metadata": {},
   "source": [
    "#### This time, let's look at a scatter plot of the individual data and plot the median as a reference"
   ]
  },
  {
   "cell_type": "code",
   "execution_count": 14,
   "metadata": {},
   "outputs": [
    {
     "data": {
      "image/png": "[encoded data removed]",
      "text/plain": [
       "<Figure size 1008x576 with 1 Axes>"
      ]
     },
     "metadata": {
      "needs_background": "light"
     },
     "output_type": "display_data"
    }
   ],
   "source": [
    "# Plot the data\n",
    "fig = plt.figure(figsize=(14,8))\n",
    "ax = fig.add_subplot()\n",
    "plt.scatter(emp_title_salary[\"title\"], emp_title_salary[\"salary\"], c=\"b\", alpha=0.5, label='salary')\n",
    "plt.plot(statistics_salary_by_title.index, statistics_salary_by_title['median'], color='green', label='median')\n",
    "\n",
    "# format the chart\n",
    "plt.title(f'Salary ($) vs Job Title - Currently Employed', color='k', size=24, weight='bold')\n",
    "plt.xlabel('Job Title', weight='bold', size=12)\n",
    "plt.ylabel('Salary ($)', weight='bold', size=12)\n",
    "plt.grid(alpha=0.2)\n",
    "plt.legend(loc='best')\n",
    "\n",
    "# Save the chart out\n",
    "plt.savefig(\"./Output/SalaryByTitleScatterAndMedian.png\")\n",
    "\n",
    "# Show the plot\n",
    "plt.show()\n"
   ]
  },
  {
   "cell_type": "markdown",
   "metadata": {},
   "source": [
    "#### Interesting, there is very little data for Manager so there is a higher spread between points\n",
    "Let's now check how many data points there are"
   ]
  },
  {
   "cell_type": "code",
   "execution_count": 15,
   "metadata": {},
   "outputs": [
    {
     "name": "stdout",
     "output_type": "stream",
     "text": [
      "\u001b[1mStatistics of Salaries by Job Title\u001b[0m\n",
      "                            mean   median    min     max  count          sem\n",
      "title                                                                       \n",
      "Assistant Engineer  48436.856187  44436.5  40000   99683   3588   170.178787\n",
      "Engineer            48532.428751  44489.0  40000  100683  30983    58.671993\n",
      "Manager             49600.555556  45169.0  40000   71148      9  4207.742157\n",
      "Senior Engineer     48501.994322  44486.0  40000  110449  85939    34.983389\n",
      "Senior Staff        58511.960170  56450.0  40000  129492  82024    57.601367\n",
      "Staff               58448.920003  56387.0  40000  127041  25526   103.146245\n",
      "Technique Leader    48532.833762  44427.0  40000  104065  12055    93.750308\n",
      "\u001b[1mNOTE:  Manager only has 9 data points compared to thousands for the other titles.\u001b[0m\n"
     ]
    }
   ],
   "source": [
    "# Redisplay the statistics table\n",
    "print(BOLD + 'Statistics of Salaries by Job Title' + END)\n",
    "print(statistics_salary_by_title)\n",
    "\n",
    "print(BOLD + 'NOTE:  Manager only has 9 data points compared to thousands for the other titles.' + END)"
   ]
  },
  {
   "cell_type": "markdown",
   "metadata": {},
   "source": [
    "## Now, per the last item requested by the boss, look up employee id"
   ]
  },
  {
   "cell_type": "markdown",
   "metadata": {},
   "source": [
    "#### Look up Employee ID = 499942"
   ]
  },
  {
   "cell_type": "code",
   "execution_count": 16,
   "metadata": {},
   "outputs": [
    {
     "data": {
      "text/html": [
       "<div>\n",
       "<style scoped>\n",
       "    .dataframe tbody tr th:only-of-type {\n",
       "        vertical-align: middle;\n",
       "    }\n",
       "\n",
       "    .dataframe tbody tr th {\n",
       "        vertical-align: top;\n",
       "    }\n",
       "\n",
       "    .dataframe thead th {\n",
       "        text-align: right;\n",
       "    }\n",
       "</style>\n",
       "<table border=\"1\" class=\"dataframe\">\n",
       "  <thead>\n",
       "    <tr style=\"text-align: right;\">\n",
       "      <th></th>\n",
       "      <th>emp_no</th>\n",
       "      <th>birth_date</th>\n",
       "      <th>first_name</th>\n",
       "      <th>last_name</th>\n",
       "      <th>gender</th>\n",
       "      <th>hire_date</th>\n",
       "    </tr>\n",
       "  </thead>\n",
       "  <tbody>\n",
       "    <tr>\n",
       "      <td>299966</td>\n",
       "      <td>499942</td>\n",
       "      <td>1963-01-10</td>\n",
       "      <td>April</td>\n",
       "      <td>Foolsday</td>\n",
       "      <td>F</td>\n",
       "      <td>1997-02-10</td>\n",
       "    </tr>\n",
       "  </tbody>\n",
       "</table>\n",
       "</div>"
      ],
      "text/plain": [
       "        emp_no birth_date first_name last_name gender  hire_date\n",
       "299966  499942 1963-01-10      April  Foolsday      F 1997-02-10"
      ]
     },
     "execution_count": 16,
     "metadata": {},
     "output_type": "execute_result"
    }
   ],
   "source": [
    "my_info = employees.loc[employees[\"emp_no\"] == 499942, :]\n",
    "my_info"
   ]
  },
  {
   "cell_type": "markdown",
   "metadata": {},
   "source": [
    "#### NOTE the fact that suspicians were correct and the data is fake."
   ]
  }
 ],
 "metadata": {
  "kernelspec": {
   "display_name": "Python 3",
   "language": "python",
   "name": "python3"
  },
  "language_info": {
   "codemirror_mode": {
    "name": "ipython",
    "version": 3
   },
   "file_extension": ".py",
   "mimetype": "text/x-python",
   "name": "python",
   "nbconvert_exporter": "python",
   "pygments_lexer": "ipython3",
   "version": "3.6.9"
  }
 },
 "nbformat": 4,
 "nbformat_minor": 2
}
